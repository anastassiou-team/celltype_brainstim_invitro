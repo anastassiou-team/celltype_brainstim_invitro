{
 "cells": [
  {
   "cell_type": "code",
   "execution_count": 1,
   "metadata": {},
   "outputs": [],
   "source": [
    "import pandas as pd\n",
    "from scipy.stats import ttest_ind\n",
    "from scipy.stats import ttest_rel\n",
    "import numpy as np\n",
    "from __future__ import division\n",
    "import seaborn as sns\n",
    "import matplotlib.pyplot as plt\n",
    "from openpyxl import load_workbook\n",
    "from matplotlib import rcParams\n",
    "rcParams['font.sans-serif']=[\"arial\"]\n",
    "from matplotlib.ticker import (MultipleLocator, FormatStrFormatter, AutoMinorLocator)\n",
    "import matplotlib.patheffects as pe"
   ]
  },
  {
   "cell_type": "markdown",
   "metadata": {},
   "source": [
    "This is for:  \n",
    "1) plotting the barplot version of the bootstrapped VL means and comparing ES vs control barplots (e.g. in Figure 4g)  \n",
    "2) doing the welch's t-test  \n",
    "3) getting the cohen's d value for comparison"
   ]
  },
  {
   "cell_type": "markdown",
   "metadata": {},
   "source": [
    "### For V1 Pyr cells, 8 Hz/200 nA ES vs. control"
   ]
  },
  {
   "cell_type": "code",
   "execution_count": 2,
   "metadata": {},
   "outputs": [
    {
     "name": "stdout",
     "output_type": "stream",
     "text": [
      "1.6878844153094363 -5.046008489992778 0.0002713693528571186\n",
      "2.0093072243105796 -5.237950177663466 4.000788481969824e-05\n",
      "1.7351965495390886 -4.983585496931513 8.188425151944522e-05\n",
      "1.5954737267766896 -4.64501139149756 0.0002087474826684821\n",
      "1.6714858829643662 -4.743648102880844 0.00017791384187785636\n",
      "1.5654300578457117 -4.446913282413004 0.00034432674004150366\n",
      "1.540288373130782 -4.267167803098735 0.0005186688310464288\n",
      "1.500048262990572 -4.1687297797060685 0.000766615505842823\n",
      "1.4366448923156454 -3.934414073229296 0.0012746563445476193\n",
      "1.297682306459297 -3.553849358615445 0.0027651925839121696\n",
      "1.1754928487372902 -3.21921974719711 0.005576695029481588\n",
      "1.2002107412642888 -3.286912483752237 0.004793554691309885\n"
     ]
    }
   ],
   "source": [
    "to_plot_sheet= pd.read_excel(\"../tables/V1Pyr_8Hzbins_ES_CON.xlsx\")\n",
    "\n",
    "for binsize in [7.5,7,6.5,6,5.5,5,4.5,4,3.5,3,2.5,2]:\n",
    "    array_control = to_plot_sheet[(to_plot_sheet[\"Hz_int_minvalue\"]==binsize) & (to_plot_sheet[\"Freq_Hz\"]==8) & (to_plot_sheet[\"Amp_nA\"]==0)]\n",
    "    array_control_VL = array_control[\"Vector_Length\"]\n",
    "\n",
    "    array_stim = to_plot_sheet[(to_plot_sheet[\"Hz_int_minvalue\"]==binsize) & (to_plot_sheet[\"Freq_Hz\"]==8) & (to_plot_sheet[\"Amp_nA\"]==200)]\n",
    "    array_stim_VL = array_stim[\"Vector_Length\"]\n",
    "\n",
    "    #For cohen's d    \n",
    "    # 1) calculate the size of samples  \n",
    "    size_con = len(array_control_VL)\n",
    "    size_ES = len(array_stim_VL)    \n",
    "    # 2) calculate the variance of the samples\n",
    "    var_size_con, var_size_ES = np.var(array_control_VL, ddof=1), np.var(array_stim_VL, ddof=1)\n",
    "    # 3) calculate the means of the samples\n",
    "    mean_con = np.mean(array_control_VL)\n",
    "    mean_ES = np.mean(array_stim_VL)\n",
    "    # 4) calculate the pooled standard deviation\n",
    "    dof = (size_con + size_ES - 2)    \n",
    "    pooled_std = np.sqrt(((size_con - 1) *  var_size_con  + (size_ES - 1) * var_size_ES ) / dof)\n",
    "    # 5) print the effect size ()\n",
    "    cohensd = (mean_ES - mean_con)/pooled_std  \n",
    "    \n",
    "    #For Welch's t-test    \n",
    "    pval = ttest_ind(array_control_VL, array_stim_VL, equal_var=False)      #equal_var=False for Welch's, unequal sample size\n",
    "    print cohensd, pval[0], pval[1]"
   ]
  },
  {
   "cell_type": "code",
   "execution_count": 3,
   "metadata": {},
   "outputs": [],
   "source": [
    "def plot_binbarplots_V1mouse(binbarplot):\n",
    "    plt.figure(figsize=(2.8,1.65))\n",
    "    meanlineprops = dict(linestyle='-', linewidth=1.5, color='purple')\n",
    "\n",
    "    ax = sns.boxplot(x=\"Hz_int_minvalue\", y=\"Vector_Length\", data=binbarplot, color=\"#FFFFFF\", width=0.75, linewidth=0.7, fliersize=0, showmeans=True, meanline=True, meanprops = meanlineprops )\n",
    "    plt.setp(ax.artists, edgecolor=\"#009b81\")\n",
    "    plt.setp(ax.lines, color='#009b81')\n",
    "\n",
    "    ax.spines['left'].set_linewidth(1.3)\n",
    "    ax.spines['bottom'].set_linewidth(1.3)\n",
    "\n",
    "    for medl in ax.lines[4::7]:\n",
    "        medl.set_color('blue')\n",
    "        medl.set_linewidth(1.5)  \n",
    "\n",
    "    sns.swarmplot(x=\"Hz_int_minvalue\", y=\"Vector_Length\", data=binbarplot, color=\"#009b81\", size=2, zorder=10)\n",
    "    sns.despine()\n",
    "    plt.xlabel(\"\", size=12)\n",
    "    plt.ylabel(\"\", size=12)\n",
    "    plt.ylim(0,1.05)\n",
    "    plt.yticks([0,0.2,0.4,0.6,0.8,1.0], [\"\",\"\",\"\",\"\",\"\",\"\"])\n",
    "    plt.xlim(-0.6,10.6)\n",
    "    xspaceticks = [10,9,8,7,6,5,4,3,2,1,0]\n",
    "    labels=[\"\",\"\",\"\",\"\",\"\",\"\",\"\",\"\",\"\",\"\",\"\"]\n",
    "    #labels = [\"$\\pm$1\", \"$\\pm$1.5\", \"$\\pm$2\", \"$\\pm$2.5\", \"$\\pm$3\", \"$\\pm$3.5\", \"$\\pm$4\", \"$\\pm$4.5\", \"$\\pm$5\",\"$\\pm$5.5\",\"$\\pm$6\", \"$\\pm$6.5\", \"$\\pm$7\", \"$\\pm$7.5\"]\n",
    "    plt.xticks(xspaceticks,labels)\n",
    "    plt.xticks(fontname = \"arial\", fontsize=12, weight='medium')\n",
    "    plt.yticks(fontname = \"arial\", fontsize=12, weight='medium')\n",
    "    ax.invert_xaxis()\n",
    "    ax.tick_params(length=4, width=1.3)\n",
    "    plt.show()"
   ]
  },
  {
   "cell_type": "markdown",
   "metadata": {},
   "source": [
    "### For mouse V1 Pyr: Making the ES and Control 8Hz-center-freq-bin-bootstrap barplots"
   ]
  },
  {
   "cell_type": "code",
   "execution_count": 4,
   "metadata": {},
   "outputs": [
    {
     "data": {
      "image/png": "[encoded data removed]",
      "text/plain": [
       "<Figure size 201.6x118.8 with 1 Axes>"
      ]
     },
     "metadata": {
      "needs_background": "light"
     },
     "output_type": "display_data"
    }
   ],
   "source": [
    "#Plotting the ES barplots\n",
    "#You'll have to put the xtick labels yourself since it's too hard to get exact xtick labels since the labels are long\n",
    "\n",
    "Cenfreq = 8\n",
    "to_plot_sheet= pd.read_excel(\"../tables/V1Pyr_8Hzbins_ES_CON.xlsx\")\n",
    "binbarplot = to_plot_sheet[(to_plot_sheet[\"Freq_Hz\"]==Cenfreq) & (to_plot_sheet[\"Amp_nA\"]==200)]\n",
    "\n",
    "plot_binbarplots_V1mouse(binbarplot)"
   ]
  },
  {
   "cell_type": "code",
   "execution_count": 5,
   "metadata": {},
   "outputs": [
    {
     "data": {
      "image/png": "[encoded data removed]",
      "text/plain": [
       "<Figure size 201.6x118.8 with 1 Axes>"
      ]
     },
     "metadata": {
      "needs_background": "light"
     },
     "output_type": "display_data"
    }
   ],
   "source": [
    "#Plotting the Control barplots\n",
    "#You'll have to put the xtick labels yourself since it's too hard to get exact xtick labels since the labels are long\n",
    "\n",
    "Cenfreq = 8\n",
    "to_plot_sheet= pd.read_excel(\"../tables/V1Pyr_8Hzbins_ES_CON.xlsx\")\n",
    "binbarplot = to_plot_sheet[(to_plot_sheet[\"Freq_Hz\"]==Cenfreq) & (to_plot_sheet[\"Amp_nA\"]==0)]\n",
    "\n",
    "plot_binbarplots_V1mouse(binbarplot)"
   ]
  },
  {
   "cell_type": "markdown",
   "metadata": {},
   "source": [
    "### For mouse V1 Pyr: Plotting the Welch's t-test p-values (from above) for comparing the ES and Control 8Hz-center-freq-bin-bootstrap barplots, and assigning cohen's d"
   ]
  },
  {
   "cell_type": "code",
   "execution_count": 6,
   "metadata": {},
   "outputs": [
    {
     "data": {
      "image/png": "[encoded data removed]",
      "text/plain": [
       "<Figure size 172.8x118.8 with 1 Axes>"
      ]
     },
     "metadata": {
      "needs_background": "light"
     },
     "output_type": "display_data"
    }
   ],
   "source": [
    "# plot log of pvalue on symlog scale with inverted y axis and minor tick marks\n",
    "x_values_Pyr=[1, 2, 3, 4, 5, 6,7,8,9,10,11]\n",
    "y_values_Pyr=[4.00078848197e-05, 8.18842515194e-05, 0.000208747482668, 0.000177913841878, 0.000344326740042, 0.000518668831046, 0.000766615505843, 0.00127465634455, 0.00276519258391, 0.00557669502948, 0.00479355469131]\n",
    "y_log10_pyr= -(np.log10(y_values_Pyr))\n",
    "\n",
    "fig, ax = plt.subplots(figsize=(2.4,1.65))   \n",
    "plt.scatter(x_values_Pyr,y_log10_pyr, color=\"#009b81\", linewidth=0.5, s=60, zorder=1) #s=100 for scatter\n",
    "plt.plot(x_values_Pyr,y_log10_pyr, zorder=0, color=\"#009b81\", lw=3, path_effects=[pe.Stroke(linewidth=2.5, foreground='black'), pe.Normal()]) #s=100 for scatter\n",
    "labels=[\"\",\"\",\"\",\"\",\"\",\"\",\"\",\"\",\"\",\"\",\"\"]\n",
    "plt.xticks(x_values_Pyr,labels)\n",
    "plt.yticks([0,2,4,6], [\"\",\"\",\"\",\"\",\"\",\"\",\"\"])\n",
    "ax.spines['right'].set_visible(False)\n",
    "ax.spines['top'].set_visible(False)\n",
    "\n",
    "sigline=-np.log10(0.05)\n",
    "plt.axhline(y=sigline, color='r', linestyle='-')\n",
    "\n",
    "plt.xlabel(\"\", size=12)\n",
    "#plt.ylabel('-log10 (p-value)', size=12)\n",
    "#ax.set_xlabel('ES Frequency (Hz)',  labelpad=10, fontsize=12, weight='medium')\n",
    "#ax.set_ylabel('-log10 (p-value)', fontsize=12, weight='medium', labelpad=10)\n",
    "# ax.set_yscale('symlog')\n",
    "ax.set_ylim(-0,6)\n",
    "# plt.gca().invert_yaxis() \n",
    "plt.setp(ax.spines.values(), linewidth=1.3)\n",
    "plt.xticks(fontsize=11)\n",
    "plt.yticks(fontsize=11)\n",
    "minorLocator = MultipleLocator(10)\n",
    "#ax.yaxis.set_minor_locator(minorLocator)\n",
    "ax.tick_params(length=4, width=1.3)\n",
    "plt.show()"
   ]
  },
  {
   "cell_type": "markdown",
   "metadata": {},
   "source": [
    "### For Human cells, 8 Hz/200 nA ES vs. control"
   ]
  },
  {
   "cell_type": "code",
   "execution_count": 7,
   "metadata": {},
   "outputs": [
    {
     "name": "stdout",
     "output_type": "stream",
     "text": [
      "3.4403563248043985 -4.250739346235307 0.017916603381573196\n",
      "1.1975342335184647 -1.693569154447882 0.1673782143349831\n",
      "0.9869634830901985 -1.3957771433531476 0.24510658467652569\n",
      "0.9925371125853317 -1.4036594457768077 0.24343686768215336\n",
      "1.0057005590018842 -1.4222753702266673 0.2379788156924536\n"
     ]
    }
   ],
   "source": [
    "to_plot_sheet= pd.read_excel(\"../tables/HumanCells_8Hzbins_ES_Con.xlsx\")\n",
    "\n",
    "for binsize in [7,6.5,6,5.5,5]:\n",
    "    array_control = to_plot_sheet[(to_plot_sheet[\"Hz_int_minvalue\"]==binsize) & (to_plot_sheet[\"Freq_Hz\"]==8) & (to_plot_sheet[\"Amp_nA\"]==0)]\n",
    "    array_control_VL = array_control[\"Vector_Length\"]\n",
    "\n",
    "    array_stim = to_plot_sheet[(to_plot_sheet[\"Hz_int_minvalue\"]==binsize) & (to_plot_sheet[\"Freq_Hz\"]==8) & (to_plot_sheet[\"Amp_nA\"]==200)]\n",
    "    array_stim_VL = array_stim[\"Vector_Length\"]\n",
    "\n",
    "    #For cohen's d    \n",
    "    # 1) calculate the size of samples  \n",
    "    size_con = len(array_control_VL)\n",
    "    size_ES = len(array_stim_VL)    \n",
    "    # 2) calculate the variance of the samples\n",
    "    var_size_con, var_size_ES = np.var(array_control_VL, ddof=1), np.var(array_stim_VL, ddof=1)\n",
    "    # 3) calculate the means of the samples\n",
    "    mean_con = np.mean(array_control_VL)\n",
    "    mean_ES = np.mean(array_stim_VL)\n",
    "    # 4) calculate the pooled standard deviation\n",
    "    dof = (size_con + size_ES - 2)    \n",
    "    pooled_std = np.sqrt(((size_con - 1) *  var_size_con  + (size_ES - 1) * var_size_ES ) / dof)\n",
    "    # 5) print the effect size ()\n",
    "    cohensd = (mean_ES - mean_con)/pooled_std  \n",
    "    \n",
    "    #For Welch's t-test    \n",
    "    pval = ttest_ind(array_control_VL, array_stim_VL, equal_var=False)      #equal_var=False for Welch's, unequal sample size\n",
    "    print cohensd, pval[0], pval[1]"
   ]
  },
  {
   "cell_type": "markdown",
   "metadata": {},
   "source": [
    "### For Human Cells: Making the ES and Control 8Hz-center-freq-bin-bootstrap barplots"
   ]
  },
  {
   "cell_type": "code",
   "execution_count": 8,
   "metadata": {},
   "outputs": [],
   "source": [
    "def plot_binbarplots_human(binbarplot):\n",
    "    plt.figure(figsize=(2.25,1.9))\n",
    "    meanlineprops = dict(linestyle='-', linewidth=1.5, color='purple')\n",
    "\n",
    "    ax = sns.boxplot(x=\"Hz_int_minvalue\", y=\"Vector_Length\", data=binbarplot, color=\"#FFFFFF\", width=0.75, linewidth=1.4, showmeans=True, meanline=True, meanprops = meanlineprops)\n",
    "    plt.setp(ax.artists, edgecolor=\"#009b81\")\n",
    "    plt.setp(ax.artists, fill=\"#009b81\", edgecolor=\"#009b81\")\n",
    "    plt.setp(ax.lines, color='#009b81')\n",
    "    ax.spines['left'].set_linewidth(2)\n",
    "    ax.spines['bottom'].set_linewidth(2)\n",
    "\n",
    "\n",
    "    for medl in ax.lines[4::7]:\n",
    "        medl.set_color('blue')\n",
    "        medl.set_linewidth(1.5)  \n",
    "\n",
    "    sns.swarmplot(x=\"Hz_int_minvalue\", y=\"Vector_Length\", data=binbarplot, color=\"#009b81\", size=3.5, zorder=10)\n",
    "    sns.despine()\n",
    "    plt.xlabel(\"\", size=12)\n",
    "    plt.ylabel(\"\", size=12)\n",
    "    plt.ylim(0,1.0)\n",
    "    plt.xlim(-0.6,4.75)\n",
    "    xspaceticks = [4,3,2,1,0]\n",
    "    labels=[\"\",\"\",\"\",\"\",\"\"]\n",
    "    #labels=[\"$\\pm$1\", \"$\\pm$1.5\", \"$\\pm$2\", \"$\\pm$2.5\", \"$\\pm$3\", \"$\\pm$3.5\", \"$\\pm$4\", \"$\\pm$4.5\", \"$\\pm$5\",\"$\\pm$5.5\",\"$\\pm$6\", \"$\\pm$6.5\", \"$\\pm$7\", \"$\\pm$7.5\"]\n",
    "    plt.xticks(xspaceticks,labels)\n",
    "    plt.yticks([0,0.2,0.4,0.6,0.8,1.0], [\"\",\"\",\"\",\"\",\"\",\"\"])\n",
    "    plt.xticks(fontname = \"arial\", fontsize=12, weight='medium')\n",
    "    plt.yticks(fontname = \"arial\", fontsize=12, weight='medium')\n",
    "    ax.invert_xaxis()\n",
    "    ax.tick_params(length=5, width=2)\n",
    "    plt.show()"
   ]
  },
  {
   "cell_type": "code",
   "execution_count": 9,
   "metadata": {},
   "outputs": [
    {
     "data": {
      "image/png": "[encoded data removed]",
      "text/plain": [
       "<Figure size 162x136.8 with 1 Axes>"
      ]
     },
     "metadata": {
      "needs_background": "light"
     },
     "output_type": "display_data"
    }
   ],
   "source": [
    "#Plotting the human_ES barplots\n",
    "#You'll have to put the xtick labels yourself since it's too hard to get exact xtick labels since the labels are long\n",
    "\n",
    "Cenfreq = 8\n",
    "to_plot_sheet_human= pd.read_excel(\"../tables/HumanCells_8Hzbins_ES_Con.xlsx\")\n",
    "binbarplot = to_plot_sheet_human[(to_plot_sheet_human[\"Freq_Hz\"]==Cenfreq) & (to_plot_sheet_human[\"Amp_nA\"]==200)]\n",
    "\n",
    "plot_binbarplots_human(binbarplot)"
   ]
  },
  {
   "cell_type": "code",
   "execution_count": 10,
   "metadata": {},
   "outputs": [
    {
     "data": {
      "image/png": "[encoded data removed]",
      "text/plain": [
       "<Figure size 162x136.8 with 1 Axes>"
      ]
     },
     "metadata": {
      "needs_background": "light"
     },
     "output_type": "display_data"
    }
   ],
   "source": [
    "#Plotting the human_ES_CONTROL barplots\n",
    "#You'll have to put the xtick labels yourself since it's too hard to get exact xtick labels since the labels are long\n",
    "\n",
    "Cenfreq = 8\n",
    "to_plot_sheet_human= pd.read_excel(\"../tables/HumanCells_8Hzbins_ES_Con.xlsx\")\n",
    "binbarplot = to_plot_sheet_human[(to_plot_sheet_human[\"Freq_Hz\"]==Cenfreq) & (to_plot_sheet_human[\"Amp_nA\"]==0)]\n",
    "\n",
    "plot_binbarplots_human(binbarplot)"
   ]
  },
  {
   "cell_type": "markdown",
   "metadata": {},
   "source": [
    "### For human Pyr: Plotting the Welch's t-test p-values (from above) for comparing the ES and Control 8Hz-center-freq-bin-bootstrap barplots, and assigning cohen's d"
   ]
  },
  {
   "cell_type": "code",
   "execution_count": 11,
   "metadata": {},
   "outputs": [
    {
     "data": {
      "image/png": "[encoded data removed]",
      "text/plain": [
       "<Figure size 144x136.8 with 1 Axes>"
      ]
     },
     "metadata": {
      "needs_background": "light"
     },
     "output_type": "display_data"
    }
   ],
   "source": [
    "# plot log of pvalue on symlog scale with inverted y axis and minor tick marks\n",
    "\n",
    "x_values_Pyr=[0, 1, 2, 3, 4]\n",
    "y_values_Pyr=[0.0179166033816, 0.167378214335, 0.245106584677, 0.243436867682, 0.237978815692]  \n",
    "y_log10_pyr= -(np.log10(y_values_Pyr))\n",
    "\n",
    "fig, ax = plt.subplots(figsize=(2,1.9))\n",
    "plt.scatter(x_values_Pyr,y_log10_pyr, color=\"#009b81\", linewidth=0.5, s=70, zorder=1) #s=100 for scatter\n",
    "plt.plot(x_values_Pyr,y_log10_pyr, zorder=0, color=\"#009b81\", lw=3, path_effects=[pe.Stroke(linewidth=2.5, foreground='black'), pe.Normal()]) #s=100 for scatter\n",
    "labels = [\"\", \"\", \"\", \"\"]\n",
    "plt.xticks(x_values_Pyr,labels)\n",
    "plt.yticks([0,0.5,1,1.5,2,2.5,3],[\"\",\"\",\"\",\"\",\"\",\"\",\"\"])\n",
    "ax.spines['right'].set_visible(False)\n",
    "ax.spines['top'].set_visible(False)\n",
    "\n",
    "sigline=-np.log10(0.05)\n",
    "plt.axhline(y=sigline, color='r', linestyle='-')\n",
    "\n",
    "plt.xlabel(\"\", size=12)\n",
    "ax.set_ylim(-0,2.5)\n",
    "plt.setp(ax.spines.values(), linewidth=2)\n",
    "plt.xticks(fontsize=11)\n",
    "plt.yticks(fontsize=11)\n",
    "minorLocator = MultipleLocator(10)\n",
    "ax.tick_params(length=5, width=2)\n",
    "plt.show()"
   ]
  },
  {
   "cell_type": "code",
   "execution_count": null,
   "metadata": {},
   "outputs": [],
   "source": []
  }
 ],
 "metadata": {
  "kernelspec": {
   "display_name": "Python 2",
   "language": "python",
   "name": "python2"
  },
  "language_info": {
   "codemirror_mode": {
    "name": "ipython",
    "version": 2
   },
   "file_extension": ".py",
   "mimetype": "text/x-python",
   "name": "python",
   "nbconvert_exporter": "python",
   "pygments_lexer": "ipython2",
   "version": "2.7.18"
  }
 },
 "nbformat": 4,
 "nbformat_minor": 2
}
